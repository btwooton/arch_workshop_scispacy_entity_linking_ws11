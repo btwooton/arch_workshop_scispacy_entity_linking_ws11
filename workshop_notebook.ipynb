{
  "cells": [
    {
      "cell_type": "markdown",
      "source": [
        "# Step 1. Loading Public Clinical Notes Data from Hugging Face\n"
      ],
      "metadata": {
        "id": "S_zvrgde9N9H"
      },
      "id": "S_zvrgde9N9H"
    },
    {
      "cell_type": "code",
      "execution_count": null,
      "id": "1e6e2402",
      "metadata": {
        "id": "1e6e2402"
      },
      "outputs": [],
      "source": [
        "import pandas as pd\n",
        "import warnings\n",
        "warnings.filterwarnings(\"ignore\", category=UserWarning)"
      ]
    },
    {
      "cell_type": "code",
      "execution_count": null,
      "id": "e243e140",
      "metadata": {
        "id": "e243e140"
      },
      "outputs": [],
      "source": [
        "# load in the clinical notes dataset from huggingface\n",
        "df = pd.read_json(\"hf://datasets/AGBonnet/augmented-clinical-notes/augmented_notes_30K.jsonl\", lines=True, nrows=300)"
      ]
    },
    {
      "cell_type": "code",
      "execution_count": null,
      "id": "8b0791db",
      "metadata": {
        "id": "8b0791db"
      },
      "outputs": [],
      "source": [
        "df"
      ]
    },
    {
      "cell_type": "markdown",
      "source": [
        "# Step 2. Installation of scispaCy Package and Model for NEL"
      ],
      "metadata": {
        "id": "TAam8yjq9Vxx"
      },
      "id": "TAam8yjq9Vxx"
    },
    {
      "cell_type": "code",
      "source": [
        "!pip install scispacy\n"
      ],
      "metadata": {
        "id": "b_Uytd5J9jtQ"
      },
      "id": "b_Uytd5J9jtQ",
      "execution_count": null,
      "outputs": []
    },
    {
      "cell_type": "code",
      "source": [
        "!pip install https://s3-us-west-2.amazonaws.com/ai2-s2-scispacy/releases/v0.5.4/en_core_sci_sm-0.5.4.tar.gz"
      ],
      "metadata": {
        "id": "tJ60zW0j9akV"
      },
      "id": "tJ60zW0j9akV",
      "execution_count": null,
      "outputs": []
    },
    {
      "cell_type": "markdown",
      "source": [
        "# Step 3. Importing scispaCy package and creation of model for Named Entity Linking"
      ],
      "metadata": {
        "id": "VgyfafOY-Ko6"
      },
      "id": "VgyfafOY-Ko6"
    },
    {
      "cell_type": "code",
      "source": [
        "import spacy\n",
        "import scispacy\n",
        "from scispacy.linking import EntityLinker"
      ],
      "metadata": {
        "id": "LXiKSiZ59fc_"
      },
      "id": "LXiKSiZ59fc_",
      "execution_count": null,
      "outputs": []
    },
    {
      "cell_type": "code",
      "source": [
        "# now we create our model instance which can be used to process biomedical text\n",
        "nlp = spacy.load(\"en_core_sci_sm\")"
      ],
      "metadata": {
        "id": "hrZizxJE-RtR"
      },
      "id": "hrZizxJE-RtR",
      "execution_count": null,
      "outputs": []
    },
    {
      "cell_type": "code",
      "source": [
        "# now we add a linker to the UMLS knowledgebase to our model pipeline\n",
        "nlp.add_pipe(\"scispacy_linker\", config={\"resolve_abbreviations\": True, \"linker_name\": \"mesh\"})"
      ],
      "metadata": {
        "id": "8Fq942z1-eSt"
      },
      "id": "8Fq942z1-eSt",
      "execution_count": null,
      "outputs": []
    },
    {
      "cell_type": "code",
      "source": [
        "linker = nlp.get_pipe(\"scispacy_linker\")"
      ],
      "metadata": {
        "id": "8CBm8-vCDNxE"
      },
      "id": "8CBm8-vCDNxE",
      "execution_count": null,
      "outputs": []
    },
    {
      "cell_type": "markdown",
      "source": [
        "# Step 4. Definition of Function for Extracting Named Entities from the Clinical Notes"
      ],
      "metadata": {
        "id": "SUyBWBBIHBCH"
      },
      "id": "SUyBWBBIHBCH"
    },
    {
      "cell_type": "code",
      "source": [
        "def get_linked_entities_for_doc(text, nlp, linker):\n",
        "  # get the document\n",
        "  doc = nlp(text)\n",
        "  # get the linked entities\n",
        "  linked_entities = []\n",
        "  for ent in doc.ents: # get all recognized entities\n",
        "    for entry in ent._.kb_ents[:3]: # get the top 3 linked vocabulary terms for each entity\n",
        "      linked_entities.append({\n",
        "          'entity_name': ent.text,\n",
        "          'cui': entry[0],\n",
        "          'score': entry[1],\n",
        "          'name': linker.kb.cui_to_entity[entry[0]].canonical_name,\n",
        "          'definition': linker.kb.cui_to_entity[entry[0]].definition,\n",
        "          'type_ids': ','.join(linker.kb.cui_to_entity[entry[0]].types),\n",
        "      })\n",
        "  return pd.DataFrame(linked_entities).drop_duplicates()\n"
      ],
      "metadata": {
        "id": "1ChkfTpnCWjG"
      },
      "id": "1ChkfTpnCWjG",
      "execution_count": null,
      "outputs": []
    },
    {
      "cell_type": "code",
      "source": [
        "get_linked_entities_for_doc(df['full_note'][1], nlp, linker).query('score >= 0.9')"
      ],
      "metadata": {
        "id": "l_TyJxYVDXu3"
      },
      "id": "l_TyJxYVDXu3",
      "execution_count": null,
      "outputs": []
    },
    {
      "cell_type": "code",
      "source": [
        "import pprint"
      ],
      "metadata": {
        "id": "kPbNRXDhGhhP"
      },
      "id": "kPbNRXDhGhhP",
      "execution_count": null,
      "outputs": []
    },
    {
      "cell_type": "code",
      "source": [
        "pp = pprint.PrettyPrinter(indent=4)\n",
        "pp.pprint(df['full_note'][1])"
      ],
      "metadata": {
        "id": "jThaBDetDdmI"
      },
      "id": "jThaBDetDdmI",
      "execution_count": null,
      "outputs": []
    },
    {
      "cell_type": "markdown",
      "source": [
        "# Step 5. Extracting All Named Entities from The Clinical Notes"
      ],
      "metadata": {
        "id": "CUdDPG3rILeb"
      },
      "id": "CUdDPG3rILeb"
    },
    {
      "cell_type": "code",
      "source": [
        "from tqdm import tqdm"
      ],
      "metadata": {
        "id": "8sNWC-YqIXri"
      },
      "id": "8sNWC-YqIXri",
      "execution_count": null,
      "outputs": []
    },
    {
      "cell_type": "code",
      "source": [
        "linked_entity_dfs = []\n",
        "for _, row in tqdm(df.iterrows(), total=len(df)):\n",
        "  linked_entities = get_linked_entities_for_doc(row['full_note'], nlp, linker).query('score >= 0.9')\n",
        "  linked_entity_dfs.append(\n",
        "      linked_entities.assign(type_ids_lst=lambda x: x['type_ids'].str.split(','))\n",
        "      .explode('type_ids_lst').assign(note_id=row['idx'])\n",
        "    )"
      ],
      "metadata": {
        "id": "j-M1exzmIQLF"
      },
      "id": "j-M1exzmIQLF",
      "execution_count": null,
      "outputs": []
    },
    {
      "cell_type": "code",
      "source": [
        "linked_entities_all = pd.concat(linked_entity_dfs)"
      ],
      "metadata": {
        "id": "pnl69nWYJM77"
      },
      "id": "pnl69nWYJM77",
      "execution_count": null,
      "outputs": []
    },
    {
      "cell_type": "code",
      "source": [
        "linked_entities_all"
      ],
      "metadata": {
        "id": "5HHc7poOKho3"
      },
      "id": "5HHc7poOKho3",
      "execution_count": null,
      "outputs": []
    },
    {
      "cell_type": "code",
      "source": [
        "# inspecting the top 50 occuring linked entity names\n",
        "linked_entities_all['entity_name'].value_counts().head(50)"
      ],
      "metadata": {
        "id": "8emMpP--K4Ke"
      },
      "id": "8emMpP--K4Ke",
      "execution_count": null,
      "outputs": []
    },
    {
      "cell_type": "markdown",
      "source": [
        "# Step 6. Labeling Semantic Types for All Linked Entities"
      ],
      "metadata": {
        "id": "REatisA7sKfP"
      },
      "id": "REatisA7sKfP"
    },
    {
      "cell_type": "code",
      "source": [
        "# first load in the file containing the labels for the semantic types\n",
        "semantic_type_labels = pd.read_csv('https://github.com/btwooton/arch_workshop_scispacy_entity_linking_ws11/raw/refs/heads/main/umls_terms.txt')"
      ],
      "metadata": {
        "id": "nusdkexPsV13"
      },
      "id": "nusdkexPsV13",
      "execution_count": null,
      "outputs": []
    },
    {
      "cell_type": "code",
      "source": [
        "semantic_type_labels"
      ],
      "metadata": {
        "id": "hbK8rBNBslC3"
      },
      "id": "hbK8rBNBslC3",
      "execution_count": null,
      "outputs": []
    },
    {
      "cell_type": "code",
      "source": [
        "# now we add in these semantic type labels\n",
        "linked_entities_final = linked_entities_all.merge(\n",
        "    semantic_type_labels,\n",
        "    left_on='type_ids_lst',\n",
        "    right_on='tui',\n",
        "    how='left'\n",
        ")"
      ],
      "metadata": {
        "id": "F9GpwDfjspaO"
      },
      "id": "F9GpwDfjspaO",
      "execution_count": null,
      "outputs": []
    },
    {
      "cell_type": "code",
      "source": [
        "linked_entities_final"
      ],
      "metadata": {
        "id": "tCxw5JIKtBf5"
      },
      "id": "tCxw5JIKtBf5",
      "execution_count": null,
      "outputs": []
    },
    {
      "cell_type": "markdown",
      "source": [
        "## Mini Exercise: Show the Top 20 Most Frequently Occuring Semantic Types Among Linked Entities"
      ],
      "metadata": {
        "id": "nlWctHbXtUUP"
      },
      "id": "nlWctHbXtUUP"
    },
    {
      "cell_type": "code",
      "source": [
        "# Your solution below..."
      ],
      "metadata": {
        "id": "h0kPiA-itdX1"
      },
      "id": "h0kPiA-itdX1",
      "execution_count": null,
      "outputs": []
    },
    {
      "cell_type": "markdown",
      "source": [
        "# Step 7. Utilizing Publicly Available Crosswalk File to Link Entities to MeSH Terms and SNOMED Terms"
      ],
      "metadata": {
        "id": "9zFfgUbkKpH0"
      },
      "id": "9zFfgUbkKpH0"
    },
    {
      "cell_type": "code",
      "source": [
        "# first we load in mappings from UMLS concept unique ids to Medical Subject Heading (MeSH) terms\n",
        "mrconso_mesh_mappings = pd.read_parquet('https://github.com/btwooton/arch_workshop_scispacy_entity_linking_ws11/raw/refs/heads/main/mrconso_mesh.parquet')"
      ],
      "metadata": {
        "id": "aFjQS_GKLBig"
      },
      "id": "aFjQS_GKLBig",
      "execution_count": null,
      "outputs": []
    },
    {
      "cell_type": "code",
      "source": [
        "mrconso_mesh_mappings"
      ],
      "metadata": {
        "id": "uinf_0YYLNbk"
      },
      "id": "uinf_0YYLNbk",
      "execution_count": null,
      "outputs": []
    },
    {
      "cell_type": "code",
      "source": [
        "# now we can merge the linked entities with the MeSH mappings\n",
        "linked_entities_mesh = linked_entities_final.merge(\n",
        "    mrconso_mesh_mappings,\n",
        "    left_on='cui',\n",
        "    right_on='CUI',\n",
        "    how='left'\n",
        ")"
      ],
      "metadata": {
        "id": "oPmmv2fgOwjb"
      },
      "id": "oPmmv2fgOwjb",
      "execution_count": null,
      "outputs": []
    },
    {
      "cell_type": "code",
      "source": [
        "linked_entities_mesh"
      ],
      "metadata": {
        "id": "WSJwryuwO9Uu"
      },
      "id": "WSJwryuwO9Uu",
      "execution_count": null,
      "outputs": []
    },
    {
      "cell_type": "code",
      "source": [
        "# now we load in the mappings from CUIs to Systematized Nomenclature of Medicine - Clinical Terms\n",
        "mrconso_snomed_mappings = pd.read_parquet('https://github.com/btwooton/arch_workshop_scispacy_entity_linking_ws11/raw/refs/heads/main/mrconso_snomed.parquet')"
      ],
      "metadata": {
        "id": "ZBDEwp1OO-N3"
      },
      "id": "ZBDEwp1OO-N3",
      "execution_count": null,
      "outputs": []
    },
    {
      "cell_type": "code",
      "source": [
        "linked_entities_snomed = linked_entities_final.merge(\n",
        "    mrconso_snomed_mappings,\n",
        "    left_on='cui',\n",
        "    right_on='CUI',\n",
        "    how='left'\n",
        ")"
      ],
      "metadata": {
        "id": "JNuB7665PS7E"
      },
      "id": "JNuB7665PS7E",
      "execution_count": null,
      "outputs": []
    },
    {
      "cell_type": "code",
      "source": [
        "linked_entities_snomed"
      ],
      "metadata": {
        "id": "DqU4865DPWNw"
      },
      "id": "DqU4865DPWNw",
      "execution_count": null,
      "outputs": []
    },
    {
      "cell_type": "code",
      "source": [
        "print(f\"{len(linked_entities_snomed.dropna(subset=['CODE'])) / len(linked_entities_snomed) * 100}% of the entities have a SNOMED code\")"
      ],
      "metadata": {
        "id": "tZu73eZVPXlr"
      },
      "id": "tZu73eZVPXlr",
      "execution_count": null,
      "outputs": []
    },
    {
      "cell_type": "code",
      "source": [
        "print(f\"{len(linked_entities_mesh.dropna(subset=['CODE'])) / len(linked_entities_mesh) * 100}% of the entities have a MeSH code\")"
      ],
      "metadata": {
        "id": "Zk7uZZOXPk4n"
      },
      "id": "Zk7uZZOXPk4n",
      "execution_count": null,
      "outputs": []
    },
    {
      "cell_type": "markdown",
      "source": [
        "# Step 8. Utilize MeSH Hierarchy to Semantically Group Linked Entities\n",
        "This file was originally downloaded from the NIH National Library of Medicine Website at [The Following Link](https://www.nlm.nih.gov/databases/download/mesh.html). The original file is in XML format, which I then processed and converted into a CSV file for ease of loading and reduced disk storage."
      ],
      "metadata": {
        "id": "BiYyecvPyG1M"
      },
      "id": "BiYyecvPyG1M"
    },
    {
      "cell_type": "code",
      "source": [
        "# now load in the MeSH Hierarchy file\n",
        "mesh_hierarchy = pd.read_csv('https://github.com/btwooton/arch_workshop_scispacy_entity_linking_ws11/raw/refs/heads/main/mesh_hierarchy.csv')"
      ],
      "metadata": {
        "id": "ZdonpjTGPv8B"
      },
      "id": "ZdonpjTGPv8B",
      "execution_count": null,
      "outputs": []
    },
    {
      "cell_type": "code",
      "source": [
        "mesh_hierarchy"
      ],
      "metadata": {
        "id": "QjeK4aFA3SGC"
      },
      "id": "QjeK4aFA3SGC",
      "execution_count": null,
      "outputs": []
    },
    {
      "cell_type": "code",
      "source": [
        "# now we link in the tree numbers to the MeSH mapped entities\n",
        "linked_entities_mesh_hierarchy = linked_entities_mesh.merge(\n",
        "    mesh_hierarchy[['UI', 'tree_number']],\n",
        "    left_on='CODE',\n",
        "    right_on='UI',\n",
        "    how='inner'\n",
        ")"
      ],
      "metadata": {
        "id": "HXZcwS3X3TCf"
      },
      "id": "HXZcwS3X3TCf",
      "execution_count": null,
      "outputs": []
    },
    {
      "cell_type": "code",
      "source": [
        "linked_entities_mesh_hierarchy"
      ],
      "metadata": {
        "id": "D4H0vwGt4gdp"
      },
      "id": "D4H0vwGt4gdp",
      "execution_count": null,
      "outputs": []
    },
    {
      "cell_type": "code",
      "source": [
        "set(linked_entities_mesh_hierarchy['tree_number'])"
      ],
      "metadata": {
        "id": "wGi2SslL_BFn"
      },
      "id": "wGi2SslL_BFn",
      "execution_count": null,
      "outputs": []
    },
    {
      "cell_type": "code",
      "source": [
        "# format the mesh hierarchy as a lookup table/dictionary\n",
        "mesh_dictionary = {\n",
        "    row['tree_number']: row['name']\n",
        "    for _, row in tqdm(mesh_hierarchy.iterrows(), total=len(mesh_hierarchy))\n",
        "}"
      ],
      "metadata": {
        "id": "v4VY-aX48G0e"
      },
      "id": "v4VY-aX48G0e",
      "execution_count": null,
      "outputs": []
    },
    {
      "cell_type": "code",
      "source": [
        "# now we specify a function to walk up the MeSH tree for each entity\n",
        "def walk_mesh_hierarchy(entities_df, mesh_hierarchy):\n",
        "  result = entities_df.copy()\n",
        "  # get the set of distinct tree numbers in the dataset\n",
        "  tree_nums = set(entities_df['tree_number'].tolist())\n",
        "  # start at the top level\n",
        "  level = 1\n",
        "  # while we still have tree numbers to process\n",
        "  while len(tree_nums) > 0:\n",
        "    print(f\"Processing level {level}\")\n",
        "    # save the mappings for the current level in a list\n",
        "    level_mappings = []\n",
        "    # keep track of tree numbers to remove after processing this level\n",
        "    to_remove = set()\n",
        "    # loop over the tree nums\n",
        "    for tree_num in tree_nums:\n",
        "      # get the prefix for the current tree level\n",
        "      prefix = '.'.join(tree_num.split(\".\")[:level])\n",
        "      # if the prefix is different from the tree number, save a mapping for the current level\n",
        "      if prefix != tree_num:\n",
        "        level_mappings.append({\n",
        "            'tree_number': tree_num,\n",
        "            f'level_{level}_tree_number': prefix,\n",
        "            f'level_{level}_parent_name': mesh_hierarchy[prefix]\n",
        "        })\n",
        "      else:\n",
        "        # we have already enumerated all ancestors if the prefix matches, so remove the tree number\n",
        "        to_remove.add(tree_num)\n",
        "    # merge in the mappings for the current level if we have any\n",
        "    if len(level_mappings) > 0:\n",
        "      result = result.merge(\n",
        "          pd.DataFrame(level_mappings),\n",
        "          on='tree_number',\n",
        "          how='left'\n",
        "      )\n",
        "    # move one level down the tree\n",
        "    level += 1\n",
        "    # update the set of tree_nums\n",
        "    tree_nums = tree_nums - to_remove\n",
        "  # return the result dataframe\n",
        "  return result\n"
      ],
      "metadata": {
        "id": "tclAG7x64iFb"
      },
      "id": "tclAG7x64iFb",
      "execution_count": null,
      "outputs": []
    },
    {
      "cell_type": "code",
      "source": [
        "linked_entities_mesh_final = walk_mesh_hierarchy(\n",
        "    linked_entities_mesh_hierarchy,\n",
        "    mesh_dictionary\n",
        ")"
      ],
      "metadata": {
        "id": "T-w4YE7k9wSi"
      },
      "id": "T-w4YE7k9wSi",
      "execution_count": null,
      "outputs": []
    },
    {
      "cell_type": "code",
      "source": [
        "linked_entities_mesh_final[['note_id', 'entity_name', 'name', 'definition', 'label', 'level_1_parent_name', 'level_2_parent_name', 'tree_number']]"
      ],
      "metadata": {
        "id": "MaqVnJBx969S"
      },
      "id": "MaqVnJBx969S",
      "execution_count": null,
      "outputs": []
    },
    {
      "cell_type": "markdown",
      "source": [
        "# Exercises"
      ],
      "metadata": {
        "id": "ExRlvtWpAPeT"
      },
      "id": "ExRlvtWpAPeT"
    },
    {
      "cell_type": "code",
      "source": [
        "# Exercise 1: Count the number of patient notes that mention respiratory tract diseases"
      ],
      "metadata": {
        "id": "JKvfbQTNAQX3"
      },
      "id": "JKvfbQTNAQX3",
      "execution_count": null,
      "outputs": []
    },
    {
      "cell_type": "code",
      "source": [
        "# Exercise 2: For entities with a tree number prefixed by 'C' (Diseases) Rank them by number of notes mentioning each kind of disease\n",
        "# Use the level 1 parent name\n"
      ],
      "metadata": {
        "id": "O466xnn5Ad0V"
      },
      "id": "O466xnn5Ad0V",
      "execution_count": null,
      "outputs": []
    },
    {
      "cell_type": "code",
      "source": [
        "# Exercise 3: What are the 10 most frequent anatomical parts mentioned in notes tagged with Neoplasms?\n",
        "# Note: MeSH terms categorized as anatomical have a tree number prefixed by 'A'\n",
        "\n"
      ],
      "metadata": {
        "id": "Sc6ym6zHBVx9"
      },
      "id": "Sc6ym6zHBVx9",
      "execution_count": null,
      "outputs": []
    }
  ],
  "metadata": {
    "kernelspec": {
      "display_name": "Python 3 (ipykernel)",
      "language": "python",
      "name": "python3"
    },
    "language_info": {
      "codemirror_mode": {
        "name": "ipython",
        "version": 3
      },
      "file_extension": ".py",
      "mimetype": "text/x-python",
      "name": "python",
      "nbconvert_exporter": "python",
      "pygments_lexer": "ipython3",
      "version": "3.9.7"
    },
    "colab": {
      "provenance": []
    }
  },
  "nbformat": 4,
  "nbformat_minor": 5
}